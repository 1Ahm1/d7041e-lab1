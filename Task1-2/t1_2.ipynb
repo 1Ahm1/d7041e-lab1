{
 "cells": [
  {
   "cell_type": "code",
   "execution_count": 1,
   "metadata": {},
   "outputs": [],
   "source": [
    "# TASK QUESTIONS\n",
    "# 1.2.1: How long did it take you to load the data?\n",
    "#   2h\n",
    "\n",
    "import numpy as np\n",
    "import random"
   ]
  },
  {
   "cell_type": "code",
   "execution_count": 2,
   "metadata": {},
   "outputs": [],
   "source": [
    "d = np.load('../vecs.npy', allow_pickle=True)\n",
    "d = d.item()"
   ]
  },
  {
   "cell_type": "code",
   "execution_count": 3,
   "metadata": {},
   "outputs": [],
   "source": [
    "\n",
    "Labels = []\n",
    "Images = []\n",
    "\n",
    "for k_pos, v_pos in d.items():\n",
    "    for k_nbr, v_nbr in v_pos.items():\n",
    "\n",
    "        for img in v_nbr:\n",
    "            label = \"label_{}_{}\".format(k_pos, k_nbr)\n",
    "            element = []\n",
    "            for i in range(0, 32):\n",
    "                sub = img[(i*32) : (i*32) + 32]\n",
    "                element.append(sub)\n",
    "\n",
    "            Images.append(element)\n",
    "            Labels.append(label)\n"
   ]
  },
  {
   "cell_type": "code",
   "execution_count": 4,
   "metadata": {},
   "outputs": [],
   "source": [
    "def permute():\n",
    "    perm_imgs = []\n",
    "    perm_labels = []\n",
    "    copy_imgs = Images.copy()\n",
    "    copy_labels = Labels.copy()\n",
    "\n",
    "    for i in range(0, len(copy_imgs)):\n",
    "        rnd_index = random.randrange(0, len(copy_imgs)-len(perm_imgs)-1) if i <= len(copy_imgs)-1 else 0\n",
    "\n",
    "        perm_imgs.append(copy_imgs[rnd_index])\n",
    "        perm_labels.append(copy_labels[rnd_index])\n",
    "        copy_imgs.pop(rnd_index)\n",
    "        copy_labels.pop(rnd_index)\n",
    "\n",
    "    return perm_imgs, perm_labels\n",
    "\n",
    "newImages, newLabels = permute()"
   ]
  }
 ],
 "metadata": {
  "kernelspec": {
   "display_name": "Python 3",
   "language": "python",
   "name": "python3"
  },
  "language_info": {
   "codemirror_mode": {
    "name": "ipython",
    "version": 3
   },
   "file_extension": ".py",
   "mimetype": "text/x-python",
   "name": "python",
   "nbconvert_exporter": "python",
   "pygments_lexer": "ipython3",
   "version": "3.11.6"
  }
 },
 "nbformat": 4,
 "nbformat_minor": 2
}
