{
 "cells": [
  {
   "cell_type": "code",
   "execution_count": 13,
   "metadata": {},
   "outputs": [],
   "source": [
    "# TASK QUESTIONS\n",
    "# 1.2.1: How long did it take you to load the data?\n",
    "#   2h\n",
    "\n",
    "import numpy as np\n",
    "import random"
   ]
  },
  {
   "cell_type": "code",
   "execution_count": 22,
   "metadata": {},
   "outputs": [],
   "source": [
    "d = np.load('../vecs.npy', allow_pickle=True)\n",
    "d = d.item()"
   ]
  },
  {
   "cell_type": "code",
   "execution_count": 31,
   "metadata": {},
   "outputs": [
    {
     "name": "stdout",
     "output_type": "stream",
     "text": [
      "316.59448\n"
     ]
    }
   ],
   "source": [
    "# Preprocessing steps:\n",
    "# - Reformat data\n",
    "# - Normalize\n",
    "\n",
    "Labels = []\n",
    "Images = []\n",
    "\n",
    "def find_max_value():\n",
    "    max_val = d[\"1_pos\"][0][0][0]\n",
    "    for v_pos in d.values():\n",
    "        for v_nbr in v_pos.values():\n",
    "            for img in v_nbr:\n",
    "                for v in img:\n",
    "                    if v > max_val:\n",
    "                        max_val = v\n",
    "    return max_val\n",
    "\n",
    "mv = find_max_value()\n",
    "print(mv)"
   ]
  },
  {
   "cell_type": "code",
   "execution_count": 32,
   "metadata": {},
   "outputs": [],
   "source": [
    "def reformat():\n",
    "    for k_pos, v_pos in d.items():\n",
    "        for k_nbr, v_nbr in v_pos.items():\n",
    "            for img in v_nbr:\n",
    "                \n",
    "                for p in range(0, len(img)):\n",
    "                    img[p] = img[p] / mv\n",
    "\n",
    "                label = \"label_{}_{}\".format(k_pos, k_nbr)\n",
    "                Images.append(img)\n",
    "                Labels.append(label)\n",
    "\n",
    "reformat()"
   ]
  },
  {
   "cell_type": "code",
   "execution_count": null,
   "metadata": {},
   "outputs": [],
   "source": [
    "def permute():\n",
    "    perm_imgs = []\n",
    "    perm_labels = []\n",
    "    copy_imgs = Images.copy()\n",
    "    copy_labels = Labels.copy()\n",
    "\n",
    "    for i in range(0, len(copy_imgs)):\n",
    "        rnd_index = random.randrange(0, len(copy_imgs)-len(perm_imgs)-1) if i <= len(copy_imgs)-1 else 0\n",
    "\n",
    "        perm_imgs.append(copy_imgs[rnd_index])\n",
    "        perm_labels.append(copy_labels[rnd_index])\n",
    "        copy_imgs.pop(rnd_index)\n",
    "        copy_labels.pop(rnd_index)\n",
    "\n",
    "    return perm_imgs, perm_labels\n",
    "\n",
    "newImages, newLabels = permute()"
   ]
  }
 ],
 "metadata": {
  "kernelspec": {
   "display_name": "Python 3",
   "language": "python",
   "name": "python3"
  },
  "language_info": {
   "codemirror_mode": {
    "name": "ipython",
    "version": 3
   },
   "file_extension": ".py",
   "mimetype": "text/x-python",
   "name": "python",
   "nbconvert_exporter": "python",
   "pygments_lexer": "ipython3",
   "version": "3.11.6"
  }
 },
 "nbformat": 4,
 "nbformat_minor": 2
}
