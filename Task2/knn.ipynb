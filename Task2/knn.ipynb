{
 "cells": [
  {
   "cell_type": "code",
   "execution_count": 81,
   "metadata": {},
   "outputs": [],
   "source": [
    "# TASK QUESTIONS:\n",
    "# 2.1.1: What is the accuracy of this method?\n",
    "#   26.49%\n",
    "# 2.1.2: How has the accuracy changed now?\n",
    "#   19.00%\n",
    "# 2.1.3: Where/What is the bug?\n",
    "#   It was a int overflow, it went from a 8 bit to a 32 bit (distance varable). \n",
    "#   Thus creating a overflow. This was fixed by converting the input arrays to 32 bits (.astype(int)).\n",
    "# 2.2.2: What is the accuracy with best k?\n",
    "#   [a]\n",
    "\n",
    "import numpy as np\n",
    "from matplotlib import pyplot as plt"
   ]
  },
  {
   "cell_type": "code",
   "execution_count": 82,
   "metadata": {},
   "outputs": [],
   "source": [
    "from keras.datasets import mnist\n",
    "(Xtr, Ltr), (X_test, L_test) = mnist.load_data()"
   ]
  },
  {
   "cell_type": "code",
   "execution_count": 85,
   "metadata": {},
   "outputs": [
    {
     "data": {
      "text/plain": [
       "(500, 784)"
      ]
     },
     "execution_count": 85,
     "metadata": {},
     "output_type": "execute_result"
    }
   ],
   "source": [
    "num_sample=500\n",
    "Tr_set=Xtr[:num_sample,:,:]\n",
    "Ltr_set=Ltr[:num_sample]\n",
    "\n",
    "# Bugged: Tr_set=Tr_set.reshape(num_sample,Tr_set.shape[1]*Tr_set.shape[2])\n",
    "\n",
    "# FIXED VIA .astype(int)\n",
    "Tr_set=Tr_set.reshape(num_sample,Tr_set.shape[1]*Tr_set.shape[2])\n",
    "Tr_set=Tr_set.astype(int)"
   ]
  },
  {
   "cell_type": "code",
   "execution_count": 86,
   "metadata": {},
   "outputs": [],
   "source": [
    "# 2.1.1\n",
    "def predict_1NN_L1(X):\n",
    "    num_test = X.shape[0]\n",
    "    Lpred=np.zeros(num_test, dtype = Ltr_set.dtype)\n",
    "    \n",
    "    for i in range(num_test):\n",
    "        distances = np.sum(np.abs(Tr_set-X[i,:]),axis=1)\n",
    "        min_index = np.argmin(distances)\n",
    "        Lpred[i] = Ltr_set[min_index]\n",
    "        \n",
    "    return Lpred"
   ]
  },
  {
   "cell_type": "code",
   "execution_count": 87,
   "metadata": {},
   "outputs": [],
   "source": [
    "# 2.1.2\n",
    "def predict_1NN_L2(X):\n",
    "    num_test = X.shape[0]\n",
    "    Lpred=np.zeros(num_test, dtype = Ltr_set.dtype)\n",
    "    \n",
    "    for i in range(num_test):\n",
    "        distances = np.sqrt(np.sum((np.abs(Tr_set-X[i,:])**2),axis=1))\n",
    "        \n",
    "        min_index= np.argmin(distances)\n",
    "        Lpred[i]=Ltr_set[min_index]\n",
    "\n",
    "    return Lpred"
   ]
  },
  {
   "cell_type": "code",
   "execution_count": 88,
   "metadata": {},
   "outputs": [],
   "source": [
    "def most_common_element(l):\n",
    "    vals = {}\n",
    "    curr_max = 0\n",
    "    curr_val = 0\n",
    "    for e in l:\n",
    "        if e not in vals: vals[e] = 0\n",
    "        vals[e] += 1\n",
    "        if vals[e] > curr_max:\n",
    "            curr_max = vals[e]\n",
    "            curr_val = e\n",
    "    return curr_val       \n",
    "\n",
    "\n",
    "# k-NN using L2 norm\n",
    "def extended_knn(k, X):\n",
    "    num_test = X.shape[0] # = 10000\n",
    "    Lpred = np.zeros(num_test, dtype = Ltr_set.dtype)\n",
    "\n",
    "    for i in range(num_test):\n",
    "        distances = np.sqrt(np.sum((np.abs(Tr_set-X[i,:])**2),axis=1))\n",
    "\n",
    "        best_guesses = []\n",
    "        for j in range(0, k):\n",
    "            min_index = np.argmin(distances)\n",
    "            best_guesses.append(Ltr_set[min_index])\n",
    "            distances = np.delete(distances, min_index) # already marked; remove from possible neighbours\n",
    "\n",
    "        Lpred[i] = most_common_element(best_guesses)\n",
    "        \n",
    "    return Lpred"
   ]
  },
  {
   "cell_type": "code",
   "execution_count": 89,
   "metadata": {},
   "outputs": [],
   "source": [
    "def cv_3fold(X):\n",
    "    pass # return best k\n",
    "\n",
    "Test_images=X_test.reshape(X_test.shape[0],X_test.shape[1]* X_test.shape[2])\n",
    "best_k = cv_3fold()\n",
    "extended_knn(best_k, Test_images)"
   ]
  },
  {
   "cell_type": "code",
   "execution_count": 90,
   "metadata": {},
   "outputs": [
    {
     "name": "stdout",
     "output_type": "stream",
     "text": [
      "Accuracy: 0.8294\n",
      "Accuracy: 0.8294\n"
     ]
    }
   ],
   "source": [
    "Test_images=X_test.reshape(X_test.shape[0],X_test.shape[1]* X_test.shape[2])\n",
    "\n",
    "Lpred = extended_knn(1, Test_images)\n",
    "Lpred2 = predict_1NN_L2(Test_images)\n",
    "\n",
    "print(\"Accuracy:\", np.mean(Lpred==L_test))\n",
    "print(\"Accuracy:\", np.mean(Lpred2==L_test))"
   ]
  }
 ],
 "metadata": {
  "kernelspec": {
   "display_name": "Python 3",
   "language": "python",
   "name": "python3"
  },
  "language_info": {
   "codemirror_mode": {
    "name": "ipython",
    "version": 3
   },
   "file_extension": ".py",
   "mimetype": "text/x-python",
   "name": "python",
   "nbconvert_exporter": "python",
   "pygments_lexer": "ipython3",
   "version": "3.11.6"
  }
 },
 "nbformat": 4,
 "nbformat_minor": 2
}
