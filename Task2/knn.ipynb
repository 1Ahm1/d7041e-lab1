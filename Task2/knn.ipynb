{
 "cells": [
  {
   "cell_type": "code",
   "execution_count": 229,
   "metadata": {},
   "outputs": [],
   "source": [
    "# TASK QUESTIONS:\n",
    "# 2.1.1: What is the accuracy of this method?\n",
    "#   26.49%\n",
    "# 2.1.2: How has the accuracy changed now?\n",
    "#   19.00%\n",
    "# 2.1.3: Where/What is the bug?\n",
    "#   It was a int overflow, it went from a 8 bit to a 32 bit (distance varable). \n",
    "#   Thus creating a overflow. This was fixed by converting the input arrays to 32 bits (.astype(int)).\n",
    "# 2.2.2: What is the accuracy with best k?\n",
    "#   [a]\n",
    "\n",
    "import numpy as np\n",
    "from matplotlib import pyplot as plt\n",
    "import random"
   ]
  },
  {
   "cell_type": "code",
   "execution_count": 230,
   "metadata": {},
   "outputs": [],
   "source": [
    "from keras.datasets import mnist\n",
    "(Xtr, Ltr), (test_d, L_test) = mnist.load_data()"
   ]
  },
  {
   "cell_type": "code",
   "execution_count": 231,
   "metadata": {},
   "outputs": [],
   "source": [
    "num_sample=500\n",
    "Tr_set=Xtr[:num_sample,:,:]\n",
    "Ltr_set=Ltr[:num_sample]\n",
    "\n",
    "# Bugged: Tr_set=Tr_set.reshape(num_sample,Tr_set.shape[1]*Tr_set.shape[2])\n",
    "\n",
    "# FIXED VIA .astype(int)\n",
    "Tr_set=Tr_set.reshape(num_sample,Tr_set.shape[1]*Tr_set.shape[2])\n",
    "Tr_set=Tr_set.astype(int)"
   ]
  },
  {
   "cell_type": "code",
   "execution_count": 232,
   "metadata": {},
   "outputs": [],
   "source": [
    "# 2.1.1\n",
    "def predict_1NN_L1(X):\n",
    "    num_test = X.shape[0]\n",
    "    Lpred=np.zeros(num_test, dtype = Ltr_set.dtype)\n",
    "    \n",
    "    for i in range(num_test):\n",
    "        distances = np.sum(np.abs(Tr_set-X[i,:]),axis=1)\n",
    "        min_index = np.argmin(distances)\n",
    "        Lpred[i] = Ltr_set[min_index]\n",
    "        \n",
    "    return Lpred"
   ]
  },
  {
   "cell_type": "code",
   "execution_count": 233,
   "metadata": {},
   "outputs": [],
   "source": [
    "# 2.1.2\n",
    "def predict_1NN_L2(X):\n",
    "    num_test = X.shape[0]\n",
    "    Lpred=np.zeros(num_test, dtype = Ltr_set.dtype)\n",
    "    \n",
    "    for i in range(num_test):\n",
    "        distances = np.sqrt(np.sum((np.abs(Tr_set-X[i,:])**2),axis=1))\n",
    "        \n",
    "        min_index= np.argmin(distances)\n",
    "        Lpred[i]=Ltr_set[min_index]\n",
    "\n",
    "    return Lpred"
   ]
  },
  {
   "cell_type": "code",
   "execution_count": 238,
   "metadata": {},
   "outputs": [],
   "source": [
    "# 2.1.4\n",
    "def mostCommonElement(l):\n",
    "    vals = {}\n",
    "    curr_max = curr_val = 0\n",
    "    for e in l:\n",
    "        if e not in vals: vals[e] = 0\n",
    "        vals[e] += 1\n",
    "        if vals[e] > curr_max:\n",
    "            curr_max = vals[e]\n",
    "            curr_val = e\n",
    "    return curr_val       \n",
    "\n",
    "# k-NN using L2 norm\n",
    "def predict_kNN_L2(k, test_d, train_d, train_l):\n",
    "    num_test = test_d.shape[0]\n",
    "    Lpred = np.zeros(num_test, dtype = train_l.dtype)\n",
    "\n",
    "    for i in range(num_test):\n",
    "        distances = np.sqrt(np.sum((np.abs(train_d - test_d[i,:])**2),axis=1))\n",
    "\n",
    "        # vote\n",
    "        best_guesses = []\n",
    "        for j in range(0, k):\n",
    "            min_index = np.argmin(distances)\n",
    "            best_guesses.append(Ltr_set[min_index])\n",
    "            distances = np.delete(distances, min_index) # already marked; remove from possible neighbours\n",
    "\n",
    "        Lpred[i] = mostCommonElement(best_guesses)\n",
    "        \n",
    "    return Lpred"
   ]
  },
  {
   "cell_type": "code",
   "execution_count": 235,
   "metadata": {},
   "outputs": [],
   "source": [
    "# 2.2 helper functions\n",
    "def permuteKnnTestSet(data, labels):\n",
    "    order = np.arange(len(data))\n",
    "    np.random.shuffle(order)\n",
    "    return data[order], labels[order]"
   ]
  },
  {
   "cell_type": "code",
   "execution_count": 239,
   "metadata": {},
   "outputs": [
    {
     "ename": "KeyboardInterrupt",
     "evalue": "",
     "output_type": "error",
     "traceback": [
      "\u001b[1;31m---------------------------------------------------------------------------\u001b[0m",
      "\u001b[1;31mKeyboardInterrupt\u001b[0m                         Traceback (most recent call last)",
      "\u001b[1;32mc:\\Users\\hanne\\Desktop\\repos\\d7041e-lab1\\Task2\\knn.ipynb Cell 8\u001b[0m line \u001b[0;36m2\n\u001b[0;32m     <a href='vscode-notebook-cell:/c%3A/Users/hanne/Desktop/repos/d7041e-lab1/Task2/knn.ipynb#X11sZmlsZQ%3D%3D?line=18'>19</a>\u001b[0m \u001b[39m#best_k = cv_3fold(Tr_set, Ltr_set)\u001b[39;00m\n\u001b[0;32m     <a href='vscode-notebook-cell:/c%3A/Users/hanne/Desktop/repos/d7041e-lab1/Task2/knn.ipynb#X11sZmlsZQ%3D%3D?line=19'>20</a>\u001b[0m \u001b[39m#print(best_k)\u001b[39;00m\n\u001b[0;32m     <a href='vscode-notebook-cell:/c%3A/Users/hanne/Desktop/repos/d7041e-lab1/Task2/knn.ipynb#X11sZmlsZQ%3D%3D?line=21'>22</a>\u001b[0m Test_images \u001b[39m=\u001b[39m test_d\u001b[39m.\u001b[39mreshape(test_d\u001b[39m.\u001b[39mshape[\u001b[39m0\u001b[39m],test_d\u001b[39m.\u001b[39mshape[\u001b[39m1\u001b[39m]\u001b[39m*\u001b[39m test_d\u001b[39m.\u001b[39mshape[\u001b[39m2\u001b[39m])\n\u001b[1;32m---> <a href='vscode-notebook-cell:/c%3A/Users/hanne/Desktop/repos/d7041e-lab1/Task2/knn.ipynb#X11sZmlsZQ%3D%3D?line=22'>23</a>\u001b[0m \u001b[39mprint\u001b[39m(np\u001b[39m.\u001b[39mmean(predict_kNN_L2(\u001b[39m1\u001b[39;49m, Test_images, Tr_set, Ltr_set) \u001b[39m==\u001b[39m L_test))\n",
      "\u001b[1;32mc:\\Users\\hanne\\Desktop\\repos\\d7041e-lab1\\Task2\\knn.ipynb Cell 8\u001b[0m line \u001b[0;36m1\n\u001b[0;32m     <a href='vscode-notebook-cell:/c%3A/Users/hanne/Desktop/repos/d7041e-lab1/Task2/knn.ipynb#X11sZmlsZQ%3D%3D?line=15'>16</a>\u001b[0m Lpred \u001b[39m=\u001b[39m np\u001b[39m.\u001b[39mzeros(num_test, dtype \u001b[39m=\u001b[39m train_l\u001b[39m.\u001b[39mdtype)\n\u001b[0;32m     <a href='vscode-notebook-cell:/c%3A/Users/hanne/Desktop/repos/d7041e-lab1/Task2/knn.ipynb#X11sZmlsZQ%3D%3D?line=17'>18</a>\u001b[0m \u001b[39mfor\u001b[39;00m i \u001b[39min\u001b[39;00m \u001b[39mrange\u001b[39m(num_test):\n\u001b[1;32m---> <a href='vscode-notebook-cell:/c%3A/Users/hanne/Desktop/repos/d7041e-lab1/Task2/knn.ipynb#X11sZmlsZQ%3D%3D?line=18'>19</a>\u001b[0m     distances \u001b[39m=\u001b[39m np\u001b[39m.\u001b[39msqrt(np\u001b[39m.\u001b[39;49msum((np\u001b[39m.\u001b[39;49mabs(train_d \u001b[39m-\u001b[39;49m test_d[i,:])\u001b[39m*\u001b[39;49m\u001b[39m*\u001b[39;49m\u001b[39m2\u001b[39;49m),axis\u001b[39m=\u001b[39;49m\u001b[39m1\u001b[39;49m))\n\u001b[0;32m     <a href='vscode-notebook-cell:/c%3A/Users/hanne/Desktop/repos/d7041e-lab1/Task2/knn.ipynb#X11sZmlsZQ%3D%3D?line=20'>21</a>\u001b[0m     \u001b[39m# vote\u001b[39;00m\n\u001b[0;32m     <a href='vscode-notebook-cell:/c%3A/Users/hanne/Desktop/repos/d7041e-lab1/Task2/knn.ipynb#X11sZmlsZQ%3D%3D?line=21'>22</a>\u001b[0m     best_guesses \u001b[39m=\u001b[39m []\n",
      "File \u001b[1;32m~\\AppData\\Local\\Packages\\PythonSoftwareFoundation.Python.3.11_qbz5n2kfra8p0\\LocalCache\\local-packages\\Python311\\site-packages\\numpy\\core\\fromnumeric.py:2172\u001b[0m, in \u001b[0;36m_sum_dispatcher\u001b[1;34m(a, axis, dtype, out, keepdims, initial, where)\u001b[0m\n\u001b[0;32m   2102\u001b[0m \u001b[39m    \u001b[39m\u001b[39m\"\"\"\u001b[39;00m\n\u001b[0;32m   2103\u001b[0m \u001b[39m    Clip (limit) the values in an array.\u001b[39;00m\n\u001b[0;32m   2104\u001b[0m \n\u001b[1;32m   (...)\u001b[0m\n\u001b[0;32m   2167\u001b[0m \n\u001b[0;32m   2168\u001b[0m \u001b[39m    \"\"\"\u001b[39;00m\n\u001b[0;32m   2169\u001b[0m     \u001b[39mreturn\u001b[39;00m _wrapfunc(a, \u001b[39m'\u001b[39m\u001b[39mclip\u001b[39m\u001b[39m'\u001b[39m, a_min, a_max, out\u001b[39m=\u001b[39mout, \u001b[39m*\u001b[39m\u001b[39m*\u001b[39mkwargs)\n\u001b[1;32m-> 2172\u001b[0m \u001b[39mdef\u001b[39;00m \u001b[39m_sum_dispatcher\u001b[39m(a, axis\u001b[39m=\u001b[39m\u001b[39mNone\u001b[39;00m, dtype\u001b[39m=\u001b[39m\u001b[39mNone\u001b[39;00m, out\u001b[39m=\u001b[39m\u001b[39mNone\u001b[39;00m, keepdims\u001b[39m=\u001b[39m\u001b[39mNone\u001b[39;00m,\n\u001b[0;32m   2173\u001b[0m                     initial\u001b[39m=\u001b[39m\u001b[39mNone\u001b[39;00m, where\u001b[39m=\u001b[39m\u001b[39mNone\u001b[39;00m):\n\u001b[0;32m   2174\u001b[0m     \u001b[39mreturn\u001b[39;00m (a, out)\n\u001b[0;32m   2177\u001b[0m \u001b[39m@array_function_dispatch\u001b[39m(_sum_dispatcher)\n\u001b[0;32m   2178\u001b[0m \u001b[39mdef\u001b[39;00m \u001b[39msum\u001b[39m(a, axis\u001b[39m=\u001b[39m\u001b[39mNone\u001b[39;00m, dtype\u001b[39m=\u001b[39m\u001b[39mNone\u001b[39;00m, out\u001b[39m=\u001b[39m\u001b[39mNone\u001b[39;00m, keepdims\u001b[39m=\u001b[39mnp\u001b[39m.\u001b[39m_NoValue,\n\u001b[0;32m   2179\u001b[0m         initial\u001b[39m=\u001b[39mnp\u001b[39m.\u001b[39m_NoValue, where\u001b[39m=\u001b[39mnp\u001b[39m.\u001b[39m_NoValue):\n",
      "\u001b[1;31mKeyboardInterrupt\u001b[0m: "
     ]
    }
   ],
   "source": [
    "# 2.2\n",
    "def cv_3fold(test_d, test_l, kmax=10):\n",
    "    no_folds = 3\n",
    "    \n",
    "    for i in range(0, no_folds):\n",
    "        test_d, test_l = permuteKnnTestSet(test_d, test_l)\n",
    "        folds = np.array_split(test_d, no_folds) \n",
    "        folds_labels = np.array_split(test_l, no_folds) # labels\n",
    "\n",
    "        test_set, train_set = folds[i], np.delete(folds, i, axis=0)\n",
    "        test_labels, train_labels = folds_labels[i], np.delete(folds_labels, i, axis=0)\n",
    "\n",
    "        accuracies = []\n",
    "        for k in range(0, kmax):\n",
    "            accuracies.append(np.mean(predict_kNN_L2(1, test_set, train_set, train_labels) == test_labels))\n",
    "\n",
    "       \n",
    "\n",
    "best_k = cv_3fold(Tr_set, Ltr_set)\n",
    "print(best_k)\n",
    "\n",
    "Test_images = test_d.reshape(test_d.shape[0],test_d.shape[1]* test_d.shape[2])\n",
    "print(np.mean(predict_kNN_L2(best_k, Test_images, Tr_set, Ltr_set) == L_test))"
   ]
  },
  {
   "cell_type": "code",
   "execution_count": null,
   "metadata": {},
   "outputs": [
    {
     "name": "stdout",
     "output_type": "stream",
     "text": [
      "Accuracy: 0.8294\n"
     ]
    }
   ],
   "source": [
    "Test_images=test_d.reshape(test_d.shape[0],test_d.shape[1]* test_d.shape[2])\n",
    "\n",
    "Lpred2 = predict_1NN_L2(Test_images)\n",
    "print(\"Accuracy:\", np.mean(Lpred2==L_test))"
   ]
  }
 ],
 "metadata": {
  "kernelspec": {
   "display_name": "Python 3",
   "language": "python",
   "name": "python3"
  },
  "language_info": {
   "codemirror_mode": {
    "name": "ipython",
    "version": 3
   },
   "file_extension": ".py",
   "mimetype": "text/x-python",
   "name": "python",
   "nbconvert_exporter": "python",
   "pygments_lexer": "ipython3",
   "version": "3.11.6"
  }
 },
 "nbformat": 4,
 "nbformat_minor": 2
}
