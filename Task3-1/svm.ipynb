{
 "cells": [
  {
   "cell_type": "code",
   "execution_count": 1,
   "metadata": {},
   "outputs": [],
   "source": [
    "# TASK QUESTIONS:\n",
    "# 3.1.2: Which kernel achieved the best accuracy and F1 score?\n",
    "#   best acc: linear = 86%\n",
    "#   best f1: \n",
    "\n",
    "from sklearn.svm import SVC\n",
    "from sklearn.datasets import load_iris\n",
    "iris_data = load_iris()\n"
   ]
  },
  {
   "cell_type": "code",
   "execution_count": 2,
   "metadata": {},
   "outputs": [],
   "source": [
    "# 80:20\n",
    "# 80: training, 20: testing\n",
    "l = iris_data[\"data\"].shape[0]\n",
    "splitAt = int(l * 0.8)\n",
    "\n",
    "# Training \n",
    "tr_data = iris_data[\"data\"][0:splitAt]\n",
    "tr_target = iris_data[\"target\"][0:splitAt]\n",
    "\n",
    "# Testing\n",
    "te_data = iris_data[\"data\"][splitAt:l]\n",
    "te_target = iris_data[\"target\"][splitAt:l]"
   ]
  },
  {
   "cell_type": "code",
   "execution_count": 3,
   "metadata": {},
   "outputs": [
    {
     "name": "stdout",
     "output_type": "stream",
     "text": [
      "training  linear\n",
      "done training  linear accuracy =  0.8666666666666667\n",
      "training  poly\n",
      "done training  poly accuracy =  0.8333333333333334\n",
      "training  rbf\n",
      "done training  rbf accuracy =  0.7\n"
     ]
    }
   ],
   "source": [
    "kernel_types = [ \"linear\", \"poly\", \"rbf\" ]\n",
    "models = {}\n",
    "\n",
    "for ktype in kernel_types:\n",
    "    print(\"training \", ktype)\n",
    "    models[ktype] = SVC(kernel=ktype)\n",
    "    models[ktype].fit(tr_data, tr_target)\n",
    "    print(\"done training \", ktype, \"accuracy = \", models[ktype].score(te_data, te_target))"
   ]
  },
  {
   "cell_type": "code",
   "execution_count": 4,
   "metadata": {},
   "outputs": [],
   "source": [
    "# confusion matrices"
   ]
  },
  {
   "cell_type": "code",
   "execution_count": null,
   "metadata": {},
   "outputs": [],
   "source": [
    "# Extract support vectors"
   ]
  },
  {
   "cell_type": "code",
   "execution_count": null,
   "metadata": {},
   "outputs": [],
   "source": [
    "# Decision boundry"
   ]
  }
 ],
 "metadata": {
  "kernelspec": {
   "display_name": "Python 3",
   "language": "python",
   "name": "python3"
  },
  "language_info": {
   "codemirror_mode": {
    "name": "ipython",
    "version": 3
   },
   "file_extension": ".py",
   "mimetype": "text/x-python",
   "name": "python",
   "nbconvert_exporter": "python",
   "pygments_lexer": "ipython3",
   "version": "3.11.6"
  }
 },
 "nbformat": 4,
 "nbformat_minor": 2
}
