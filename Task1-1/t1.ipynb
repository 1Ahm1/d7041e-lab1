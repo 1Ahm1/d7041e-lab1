{
 "cells": [
  {
   "cell_type": "code",
   "execution_count": null,
   "metadata": {},
   "outputs": [],
   "source": [
    "# TASK QUESTIONS:\n",
    "# None"
   ]
  },
  {
   "cell_type": "code",
   "execution_count": 2,
   "metadata": {},
   "outputs": [
    {
     "ename": "SyntaxError",
     "evalue": "invalid syntax (2246934415.py, line 11)",
     "output_type": "error",
     "traceback": [
      "\u001b[1;36m  Cell \u001b[1;32mIn[2], line 11\u001b[1;36m\u001b[0m\n\u001b[1;33m    def load_images('C:\\D7041E\\Lab1\\data_folder\\dog'):\u001b[0m\n\u001b[1;37m                    ^\u001b[0m\n\u001b[1;31mSyntaxError\u001b[0m\u001b[1;31m:\u001b[0m invalid syntax\n"
     ]
    }
   ],
   "source": [
    "import numpy as np\n",
    "import os\n",
    "from PIL import Image\n",
    "import os\n",
    "import matplotlib.pyplot as plt\n",
    "import matplotlib.image as mpimg\n",
    "\n",
    "dataset_path = r'C:\\D7041E\\Lab1\\data_folder\\dog'\n",
    "\n",
    "# Function to load images from a directory and convert them to numpy arrays\n",
    "def load_images(directory='C:\\D7041E\\Lab1\\data_folder\\dog'):\n",
    "    image_list = []\n",
    "    for filename in os.listdir(directory):\n",
    "        if filename.endswith(('.jpg', '.jpeg', '.png')):  # Add more extensions if needed\n",
    "            image_path = os.path.join(directory, filename)\n",
    "            img = Image.open(image_path)\n",
    "            img_array = np.array(img)\n",
    "            image_list.append(img_array)\n",
    "    return image_list\n",
    "\n",
    "# Load images from the dataset directory\n",
    "image_list = load_images(dataset_path)\n",
    "\n",
    "if image_list:\n",
    "    # Assuming all images have the same resolution (x, y)\n",
    "    x, y = image_list[0].shape[:2]\n",
    "\n",
    "    # Convert the list of images to a numpy array with shape (n, x, y, 3)\n",
    "    image_array = np.array(image_list)\n",
    "\n",
    "    # Display the shape of the array\n",
    "    print(\"Shape of the image array:\", image_array.shape)\n",
    "else:\n",
    "    print(\"No images found in the specified directory.\")"
   ]
  },
  {
   "cell_type": "code",
   "execution_count": 6,
   "metadata": {},
   "outputs": [
    {
     "ename": "NameError",
     "evalue": "name 'image_array' is not defined",
     "output_type": "error",
     "traceback": [
      "\u001b[1;31m---------------------------------------------------------------------------\u001b[0m",
      "\u001b[1;31mNameError\u001b[0m                                 Traceback (most recent call last)",
      "\u001b[1;32mc:\\Users\\ahmad\\d7041e-lab1\\Task1-1\\t1.ipynb Cell 3\u001b[0m line \u001b[0;36m2\n\u001b[0;32m     <a href='vscode-notebook-cell:/c%3A/Users/ahmad/d7041e-lab1/Task1-1/t1.ipynb#W3sZmlsZQ%3D%3D?line=19'>20</a>\u001b[0m         \u001b[39mprint\u001b[39m(\u001b[39mf\u001b[39m\u001b[39m\"\u001b[39m\u001b[39mInvalid sample index: \u001b[39m\u001b[39m{\u001b[39;00msample_index\u001b[39m}\u001b[39;00m\u001b[39m. Please choose a valid index.\u001b[39m\u001b[39m\"\u001b[39m)\n\u001b[0;32m     <a href='vscode-notebook-cell:/c%3A/Users/ahmad/d7041e-lab1/Task1-1/t1.ipynb#W3sZmlsZQ%3D%3D?line=21'>22</a>\u001b[0m \u001b[39m# Example:\u001b[39;00m\n\u001b[0;32m     <a href='vscode-notebook-cell:/c%3A/Users/ahmad/d7041e-lab1/Task1-1/t1.ipynb#W3sZmlsZQ%3D%3D?line=22'>23</a>\u001b[0m \u001b[39m# Assuming you have loaded your images into the 'image_array' variable\u001b[39;00m\n\u001b[1;32m---> <a href='vscode-notebook-cell:/c%3A/Users/ahmad/d7041e-lab1/Task1-1/t1.ipynb#W3sZmlsZQ%3D%3D?line=23'>24</a>\u001b[0m plot_sample(\u001b[39m0\u001b[39m, image_array)\n",
      "\u001b[1;31mNameError\u001b[0m: name 'image_array' is not defined"
     ]
    }
   ],
   "source": [
    "import matplotlib.pyplot as plt\n",
    "\n",
    "def plot_sample(sample_index, images):\n",
    "    \"\"\"\n",
    "    Plot a sample image from the dataset.\n",
    "\n",
    "    Parameters:\n",
    "    - sample_index (int): Index of the sample to be plotted.\n",
    "    - images (numpy.ndarray): Array of images with shape (n, x, y, 3).\n",
    "\n",
    "    Returns:\n",
    "    - None\n",
    "    \"\"\"\n",
    "    if 0 <= sample_index < len(images):\n",
    "        plt.imshow(images[sample_index])\n",
    "        plt.title(f\"Sample {sample_index}\")\n",
    "        plt.axis('off')\n",
    "        plt.show()\n",
    "    else:\n",
    "        print(f\"Invalid sample index: {sample_index}. Please choose a valid index.\")\n",
    "\n",
    "# Example:\n",
    "# Assuming you have loaded your images into the 'image_array' variable\n",
    "plot_sample(0, image_array)\n"
   ]
  },
  {
   "cell_type": "code",
   "execution_count": 9,
   "metadata": {},
   "outputs": [
    {
     "ename": "NameError",
     "evalue": "name 'image_array' is not defined",
     "output_type": "error",
     "traceback": [
      "\u001b[1;31m---------------------------------------------------------------------------\u001b[0m",
      "\u001b[1;31mNameError\u001b[0m                                 Traceback (most recent call last)",
      "\u001b[1;32mc:\\Users\\ahmad\\d7041e-lab1\\Task1-1\\t1.ipynb Cell 4\u001b[0m line \u001b[0;36m2\n\u001b[0;32m      <a href='vscode-notebook-cell:/c%3A/Users/ahmad/d7041e-lab1/Task1-1/t1.ipynb#W4sZmlsZQ%3D%3D?line=0'>1</a>\u001b[0m \u001b[39m# Normalization\u001b[39;00m\n\u001b[1;32m----> <a href='vscode-notebook-cell:/c%3A/Users/ahmad/d7041e-lab1/Task1-1/t1.ipynb#W4sZmlsZQ%3D%3D?line=1'>2</a>\u001b[0m X_norm \u001b[39m=\u001b[39m image_array \u001b[39m/\u001b[39m \u001b[39m255.0\u001b[39m\n\u001b[0;32m      <a href='vscode-notebook-cell:/c%3A/Users/ahmad/d7041e-lab1/Task1-1/t1.ipynb#W4sZmlsZQ%3D%3D?line=3'>4</a>\u001b[0m \u001b[39m# Standardization\u001b[39;00m\n\u001b[0;32m      <a href='vscode-notebook-cell:/c%3A/Users/ahmad/d7041e-lab1/Task1-1/t1.ipynb#W4sZmlsZQ%3D%3D?line=4'>5</a>\u001b[0m X_mean \u001b[39m=\u001b[39m X_norm\u001b[39m.\u001b[39mmean(axis\u001b[39m=\u001b[39m(\u001b[39m0\u001b[39m, \u001b[39m1\u001b[39m, \u001b[39m2\u001b[39m), keepdims\u001b[39m=\u001b[39m\u001b[39mTrue\u001b[39;00m)\n",
      "\u001b[1;31mNameError\u001b[0m: name 'image_array' is not defined"
     ]
    }
   ],
   "source": [
    "# Normalization\n",
    "X_norm = image_array / 255.0\n",
    "\n",
    "# Standardization\n",
    "X_mean = X_norm.mean(axis=(0, 1, 2), keepdims=True)\n",
    "X_std = X_norm.std(axis=(0, 1, 2), keepdims=True)\n",
    "X_standardized = (X_norm - X_mean) / X_std\n",
    "\n",
    "# ZCA Whitening\n",
    "epsilon = 0.1\n",
    "cov_matrix = np.cov(X_standardized.reshape(X_standardized.shape[0], -1), rowvar=True)\n",
    "U, S, V = np.linalg.svd(cov_matrix)\n",
    "X_ZCA = U.dot(np.diag(1.0/np.sqrt(S + epsilon))).dot(U.T).dot(X_standardized.reshape(X_standardized.shape[0], -1))\n",
    "X_ZCA_rescaled = (X_ZCA - X_ZCA.min()) / (X_ZCA.max() - X_ZCA.min())\n",
    "\n",
    "# Display the processed images\n",
    "plot_sample(0, X_norm)  # Plot the first sample from the normalized dataset\n",
    "plot_sample(0, X_ZCA_rescaled.reshape(image_array[0].shape))  # Plot the first sample from the ZCA whitened dataset"
   ]
  }
 ],
 "metadata": {
  "kernelspec": {
   "display_name": "Python 3",
   "language": "python",
   "name": "python3"
  },
  "language_info": {
   "codemirror_mode": {
    "name": "ipython",
    "version": 3
   },
   "file_extension": ".py",
   "mimetype": "text/x-python",
   "name": "python",
   "nbconvert_exporter": "python",
   "pygments_lexer": "ipython3",
   "version": "3.12.0"
  }
 },
 "nbformat": 4,
 "nbformat_minor": 2
}
